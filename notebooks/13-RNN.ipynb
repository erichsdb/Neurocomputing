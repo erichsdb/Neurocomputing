{
  "cells": [
    {
      "cell_type": "markdown",
      "metadata": {
        "id": "view-in-github",
        "colab_type": "text"
      },
      "source": [
        "<a href=\"https://colab.research.google.com/github/erichsdb/Neurocomputing/blob/main/notebooks/13-RNN.ipynb\" target=\"_parent\"><img src=\"https://colab.research.google.com/assets/colab-badge.svg\" alt=\"Open In Colab\"/></a>"
      ]
    },
    {
      "cell_type": "markdown",
      "metadata": {
        "id": "9aiFD8Z_U9h8"
      },
      "source": [
        "# Recurrent neural networks\n",
        "\n",
        "The goal is to learn to use LSTM layers in keras for sentiment analysis and time series prediction. The code for sentiment analysis is adapted from <https://victorzhou.com/blog/intro-to-rnns/>. The code for time series prediction is adapted from <https://www.tensorflow.org/tutorials/structured_data/time_series>."
      ]
    },
    {
      "cell_type": "code",
      "execution_count": 1,
      "metadata": {
        "id": "vMCNVPC3U9h_"
      },
      "outputs": [],
      "source": [
        "import numpy as np\n",
        "import matplotlib.pyplot as plt\n",
        "import tensorflow as tf"
      ]
    },
    {
      "cell_type": "markdown",
      "metadata": {
        "id": "Q09VlxB2U9iA"
      },
      "source": [
        "## Sentiment analysis\n",
        "\n",
        "The goal to use recurrent neural networks (LSTM) to perform **sentiment analysis** on short sentences, i.e. to predict whether the sentence has a positive or negative meaning.\n",
        "\n",
        "The following cells represent your training and test data. They are lists of lists, where the first element is the sentence as a string, and the second a boolean, with `True` for positive sentences, `False` for negative ones.\n",
        "\n",
        "Notice how some sentences are ambiguous (if you do not notice the \"not\", the sentiment might be very different)."
      ]
    },
    {
      "cell_type": "code",
      "execution_count": 2,
      "metadata": {
        "id": "g9e62tfqU9iB"
      },
      "outputs": [],
      "source": [
        "train_data = [\n",
        "  ['good', True],\n",
        "  ['bad', False],\n",
        "  ['happy', True],\n",
        "  ['sad', False],\n",
        "  ['not good', False],\n",
        "  ['not bad', True],\n",
        "  ['not happy', False],\n",
        "  ['not sad', True],\n",
        "  ['very good', True],\n",
        "  ['very bad', False],\n",
        "  ['very happy', True],\n",
        "  ['very sad', False],\n",
        "  ['i am happy', True],\n",
        "  ['this is good', True],\n",
        "  ['i am bad', False],\n",
        "  ['this is bad', False],\n",
        "  ['i am sad', False],\n",
        "  ['this is sad', False],\n",
        "  ['i am not happy', False],\n",
        "  ['this is not good', False],\n",
        "  ['i am not bad', True],\n",
        "  ['this is not sad', True],\n",
        "  ['i am very happy', True],\n",
        "  ['this is very good', True],\n",
        "  ['i am very bad', False],\n",
        "  ['this is very sad', False],\n",
        "  ['this is very happy', True],\n",
        "  ['i am good not bad', True],\n",
        "  ['this is good not bad', True],\n",
        "  ['i am bad not good', False],\n",
        "  ['i am good and happy', True],\n",
        "  ['this is not good and not happy', False],\n",
        "  ['i am not at all good', False],\n",
        "  ['i am not at all bad', True],\n",
        "  ['i am not at all happy', False],\n",
        "  ['this is not at all sad', True],\n",
        "  ['this is not at all happy', False],\n",
        "  ['i am good right now', True],\n",
        "  ['i am bad right now', False],\n",
        "  ['this is bad right now', False],\n",
        "  ['i am sad right now', False],\n",
        "  ['i was good earlier', True],\n",
        "  ['i was happy earlier', True],\n",
        "  ['i was bad earlier', False],\n",
        "  ['i was sad earlier', False],\n",
        "  ['i am very bad right now', False],\n",
        "  ['this is very good right now', True],\n",
        "  ['this is very sad right now', False],\n",
        "  ['this was bad earlier', False],\n",
        "  ['this was very good earlier', True],\n",
        "  ['this was very bad earlier', False],\n",
        "  ['this was very happy earlier', True],\n",
        "  ['this was very sad earlier', False],\n",
        "  ['i was good and not bad earlier', True],\n",
        "  ['i was not good and not happy earlier', False],\n",
        "  ['i am not at all bad or sad right now', True],\n",
        "  ['i am not at all good or happy right now', False],\n",
        "  ['this was not happy and not good earlier', False],\n",
        "]"
      ]
    },
    {
      "cell_type": "code",
      "execution_count": 3,
      "metadata": {
        "id": "55E2a6QzU9iD"
      },
      "outputs": [],
      "source": [
        "test_data = [\n",
        "  ['this is happy', True],\n",
        "  ['i am good', True],\n",
        "  ['this is not happy', False],\n",
        "  ['i am not good', False],\n",
        "  ['this is not bad', True],\n",
        "  ['i am not sad', True],\n",
        "  ['i am very good', True],\n",
        "  ['this is very bad', False],\n",
        "  ['i am very sad', False],\n",
        "  ['this is bad not good', False],\n",
        "  ['this is good and happy', True],\n",
        "  ['i am not good and not happy', False],\n",
        "  ['i am not at all sad', True],\n",
        "  ['this is not at all good', False],\n",
        "  ['this is not at all bad', True],\n",
        "  ['this is good right now', True],\n",
        "  ['this is sad right now', False],\n",
        "  ['this is very bad right now', False],\n",
        "  ['this was good earlier', True],\n",
        "  ['i was not happy and not good earlier', False],\n",
        "  ['earlier i was good and not bad', True],\n",
        "]"
      ]
    },
    {
      "cell_type": "code",
      "execution_count": 4,
      "metadata": {
        "colab": {
          "base_uri": "https://localhost:8080/"
        },
        "id": "AdJBGX0rU9iE",
        "outputId": "03d3f71e-4663-4964-dadd-888618c1676c"
      },
      "outputs": [
        {
          "output_type": "stream",
          "name": "stdout",
          "text": [
            "58 training sentences.\n",
            "21 test sentences.\n"
          ]
        }
      ],
      "source": [
        "N_train = len(train_data)\n",
        "N_test = len(test_data)\n",
        "print(N_train, \"training sentences.\")\n",
        "print(N_test, \"test sentences.\")"
      ]
    },
    {
      "cell_type": "markdown",
      "metadata": {
        "id": "KjWNlqg_U9iF"
      },
      "source": [
        "### Data preparation\n",
        "\n",
        "The most boring part when training LSTMs on text is to prepare the data correctly. Sentences are sequences of words (possibly a huge number of words), with a variable length (some sentences are shorter than others).\n",
        "\n",
        "What neural networks expect as input is a fixed-length sequence of numerical vectors $\\{\\mathbf{x}_t\\}_{t=0}^T$, i.e. they must have a fixed size. So we need to transform each sentence into this format.\n",
        "\n",
        "The first thing to do is to identify the vocabulary, i.e. the **unique** words in the training set (fortunately, the test set uses the same exact words) as well as the maximal number of words in each sentence (again, the test set does not have longer sentences).\n",
        "\n",
        "**Q:** Create a list `vocabulary` of unique words in the training set and compute the maximal length `nb_words` of a sentence.\n",
        "\n",
        "To extract the words in each sentence, the `split()` method of Python strings might come handy:\n",
        "\n",
        "```python\n",
        "sentence = \"I fear this exercise will be difficult\"\n",
        "print(sentence.split(\" \"))\n",
        "```\n",
        "\n",
        "You will also find the `set` Python object useful to identify unique works. Check the doc. But there are many ways to do that (for loops), just do it the way you prefer."
      ]
    },
    {
      "cell_type": "code",
      "execution_count": 23,
      "metadata": {
        "colab": {
          "base_uri": "https://localhost:8080/"
        },
        "id": "LhX_HdPSU9iG",
        "outputId": "b3176193-9250-4fdd-b1ad-697bbc27aead"
      },
      "outputs": [
        {
          "output_type": "stream",
          "name": "stdout",
          "text": [
            "{'sad', 'all', 'and', 'happy', 'good', 'earlier', 'bad', 'am', 'or', 'not', 'was', 'at', 'i', 'right', 'is', 'now', 'very', 'this'}\n",
            "18\n"
          ]
        }
      ],
      "source": [
        "vocabulary = set()\n",
        "\n",
        "for i in train_data:\n",
        "  vocabulary.update(i[0].split(\" \"))\n",
        "\n",
        "print(vocabulary)\n",
        "print(len(vocabulary))"
      ]
    },
    {
      "cell_type": "markdown",
      "metadata": {
        "id": "2nBAOO0UU9iH"
      },
      "source": [
        "\n",
        "Now that we have found our list of 18 unique words, we need to able to perform **one-hot encoding** of each word, i.e. write a method `def one_hot_encoding(word, vocabulary)` that takes a word (e.g. \"good\") and the vocabulary, and returns a vector of size 18, with mostly zeros, except for a `1.0` at the location of the word in the vocabulary.\n",
        "\n",
        "For example, if your vocabulary is `[\"I\", \"love\", \"you\"]`, the one-hot encoding of \"I\" should be `np.array([1., 0., 0.])`, the one of \"love\" is `np.array([0., 1., 0.])`, etc.\n",
        "\n",
        "**Q:** Implement the `one_hot_encoding()` method for single words.\n",
        "\n",
        "*Hint:* you might find the method `index()` of list objects interesting."
      ]
    },
    {
      "cell_type": "code",
      "execution_count": 24,
      "metadata": {
        "id": "qzWPJV_AU9iI",
        "outputId": "02b89f02-ce03-43f7-c911-a7b66674571d",
        "colab": {
          "base_uri": "https://localhost:8080/"
        }
      },
      "outputs": [
        {
          "output_type": "execute_result",
          "data": {
            "text/plain": [
              "array([0., 0., 0., 0., 1., 0., 0., 0., 0., 0., 0., 0., 0., 0., 0., 0., 0.,\n",
              "       0.])"
            ]
          },
          "metadata": {},
          "execution_count": 24
        }
      ],
      "source": [
        "def one_hot_encoding(word, vocabulary):\n",
        "  one_hot = np.zeros(len(vocabulary))\n",
        "  one_hot[vocabulary.index(word)] = 1\n",
        "  return one_hot\n",
        "\n",
        "one_hot_encoding(\"good\", list(vocabulary))"
      ]
    },
    {
      "cell_type": "markdown",
      "metadata": {
        "id": "xlZAe7XyU9iJ"
      },
      "source": [
        "**Q:** You can now create the training set `X_train, T_train` and the test set `X_test, T_test`.\n",
        "\n",
        "The training input data `X_train` should be a numpy array with 3 dimensions:\n",
        "\n",
        "```python\n",
        " X_train = np.zeros((N_train, nb_words, len(vocabulary)))\n",
        "```\n",
        "\n",
        "The first index corresponds to each sentence. The second index represents the index of each word in the sentence (maximally `nb_words=10`). The third index is for the one-hot encoding (18 elements).\n",
        "\n",
        "**Beware:** most sentences are shorter than `nb_words=10`. In that case, the words should be set **at the end of the sequence**, i.e. you prepend zero vectors.\n",
        "\n",
        "For example, \"I love you\" should be encoded as:\n",
        "\n",
        "```python\n",
        "\"\", \"\", \"\", \"\", \"\", \"\", \"\", \"I\", \"love\", \"you\"\n",
        "```\n",
        "\n",
        "not as:\n",
        "\n",
        "```python\n",
        "\"I\", \"love\", \"you\", \"\", \"\", \"\", \"\", \"\", \"\", \"\"\n",
        "```\n",
        "\n",
        "The reason for that is that the LSTM will get the words one by one and only respond \"positive\" or \"negative\" after the last word has been seen. If the words are provided at the beginning of the sequence, vanishing gradients might delete them.\n",
        "\n",
        "The same holds for the test set, it only has less sentences."
      ]
    },
    {
      "cell_type": "code",
      "execution_count": 41,
      "metadata": {
        "id": "dTNX0OROU9iK",
        "outputId": "692db8bc-0b10-493d-8ec1-02e4ce06bd7c",
        "colab": {
          "base_uri": "https://localhost:8080/"
        }
      },
      "outputs": [
        {
          "output_type": "stream",
          "name": "stdout",
          "text": [
            "array([0., 0., 0., 0., 1., 0., 0., 0., 0., 0., 0., 0., 0., 0., 0., 0., 0.,\n",
            "       0.])\n",
            "array([0., 0., 0., 0., 0., 0., 0., 0., 0., 0., 0., 0., 0., 0., 0., 0., 0.,\n",
            "       1.])\n"
          ]
        }
      ],
      "source": [
        "from pprint import pprint\n",
        "\n",
        "nb_words = 10\n",
        "\n",
        "X_train = np.zeros((N_train, nb_words, len(vocabulary)))\n",
        "\n",
        "### TRAIN ###\n",
        "\n",
        "# index of each senctence\n",
        "for sentence in train_data:\n",
        "  index = train_data.index(sentence)\n",
        "  # index of each word in each sentence\n",
        "  words_in_sentence = sentence[0].split(\" \")\n",
        "  for word in words_in_sentence:\n",
        "    word_index = words_in_sentence.index(word)\n",
        "    X_train[index][word_index] = (one_hot_encoding(word, list(vocabulary)))\n",
        "\n",
        "pprint(X_train[0][0])\n",
        "\n",
        "T_train = np.array([x[1] for x in train_data])\n",
        "\n",
        "### TEST ###\n",
        "\n",
        "X_test = np.zeros((N_test, nb_words, len(vocabulary)))\n",
        "\n",
        "for sentence in test_data:\n",
        "  index = test_data.index(sentence)\n",
        "  # index of each word in each sentence\n",
        "  words_in_sentence = sentence[0].split(\" \")\n",
        "  for word in words_in_sentence:\n",
        "    word_index = words_in_sentence.index(word)\n",
        "    X_test[index][word_index] = (one_hot_encoding(word, list(vocabulary)))\n",
        "\n",
        "pprint(X_test[0][0])\n",
        "\n",
        "T_test = np.array([x[1] for x in test_data])\n"
      ]
    },
    {
      "cell_type": "markdown",
      "metadata": {
        "id": "IgQFJr8jU9iM"
      },
      "source": [
        "### Training the LSTM\n",
        "\n",
        "Now we just have to provide the data to a recurrent network. The problem is not very complicated, so we will need a single LSTM layer, followed by a single output neuron (with the logistic transfer function) whose role is to output 1 for the positive class, 0 for the negative one.\n",
        "\n",
        "**Q:** Check the documentation for the LSTM layer of `keras`: <https://keras.io/api/layers/recurrent_layers/lstm/>. It has many parameters:\n",
        "\n",
        "```python\n",
        "tf.keras.layers.LSTM(\n",
        "    units,\n",
        "    activation='tanh',\n",
        "    recurrent_activation='sigmoid',\n",
        "    use_bias=True,\n",
        "    kernel_initializer='glorot_uniform',\n",
        "    recurrent_initializer='orthogonal',\n",
        "    bias_initializer='zeros',\n",
        "    unit_forget_bias=True,\n",
        "    kernel_regularizer=None,\n",
        "    recurrent_regularizer=None, bias_regularizer=None,\n",
        "    activity_regularizer=None, kernel_constraint=None,\n",
        "    recurrent_constraint=None, bias_constraint=None,\n",
        "    dropout=0.0, recurrent_dropout=0.0,\n",
        "    implementation=2,\n",
        "    return_sequences=False, return_state=False,\n",
        "    go_backwards=False, stateful=False, unroll=False)\n",
        "```\n",
        "\n",
        "The default value for the parameters is the vanilla LSTM seen in the lectures, but you have the possibility to change the activation functions for the inputs and outputs (not the gates, it must be a sigmoid!), initialize the weights differently, add regularization or dropout, use biases or not, etc. That's a lot to play with. For this exercise, stick to the default parameters at the beginning. The only thing you need to define is the number of neurons `units` of the layer.\n",
        "\n",
        "```python\n",
        "tf.keras.layers.LSTM(units=N)\n",
        "```\n",
        "\n",
        "Note that an important parameter is `return_sequences`. When set to False (the default), the LSTM layer will process the complete sequence of 10 word vectors, and output a single vector of $N$ values (the number of units). When set to True, the layer would return a sequence of 10 vectors of size $N$.\n",
        "\n",
        "Here, we only want the LSTM layer to encode the sentence and feed a single vector to the output layer, so we can leave it to False. If we wanted to stack two LSTM layers on top of each other, we would need to set `return_sequences` to True for the first layer and False for the second one (you can try that later):\n",
        "\n",
        "```python\n",
        "tf.keras.layers.LSTM(N, return_sequences=True)\n",
        "tf.keras.layers.LSTM(M, return_sequences=False)\n",
        "```\n",
        "\n",
        "**Q:** Create a model with one LSTM layer (with enough units) and one output layer with one neuron (`'sigmoid'` activation function). Choose an optimizer (SGD, RMSprop, Adam, etc) and a good learning rate. When compiling the model, use the `'binary_crossentropy'` loss function as it is a binary classification.\n",
        "\n",
        "The input layer of the network must take a `(nb_words, len(vocabulary))` matrix as input, i.e. (window, nb_features).\n",
        "\n",
        "```python\n",
        "tf.keras.layers.Input((nb_words, len(vocabulary)))\n",
        "```\n",
        "\n",
        "When training the model with `model.fit()`, you can pass the test set as validation data, as we do not have too many examples:\n",
        "\n",
        "```python\n",
        "model.fit(X_train, T_train, validation_data=(X_test, T_test), ...)\n",
        "```\n",
        "\n",
        "Train the model for enough epochs, using a batch size big enough but not too big. In other terms: do the hyperparameter search yourself ;).\n",
        ""
      ]
    },
    {
      "cell_type": "code",
      "execution_count": 44,
      "metadata": {
        "id": "wyUSAGVPU9iO",
        "outputId": "8e4c9d36-f127-45bb-84ea-fe895e63c33b",
        "colab": {
          "base_uri": "https://localhost:8080/"
        }
      },
      "outputs": [
        {
          "output_type": "stream",
          "name": "stdout",
          "text": [
            "Epoch 1/100\n"
          ]
        },
        {
          "output_type": "stream",
          "name": "stderr",
          "text": [
            "/usr/local/lib/python3.11/dist-packages/keras/src/layers/rnn/rnn.py:204: UserWarning: Do not pass an `input_shape`/`input_dim` argument to a layer. When using Sequential models, prefer using an `Input(shape)` object as the first layer in the model instead.\n",
            "  super().__init__(**kwargs)\n"
          ]
        },
        {
          "output_type": "stream",
          "name": "stdout",
          "text": [
            "\u001b[1m1/1\u001b[0m \u001b[32m━━━━━━━━━━━━━━━━━━━━\u001b[0m\u001b[37m\u001b[0m \u001b[1m2s\u001b[0m 2s/step - accuracy: 0.5000 - loss: 0.6939 - val_accuracy: 0.3333 - val_loss: 0.6955\n",
            "Epoch 2/100\n",
            "\u001b[1m1/1\u001b[0m \u001b[32m━━━━━━━━━━━━━━━━━━━━\u001b[0m\u001b[37m\u001b[0m \u001b[1m0s\u001b[0m 100ms/step - accuracy: 0.5192 - loss: 0.6931 - val_accuracy: 0.5000 - val_loss: 0.6953\n",
            "Epoch 3/100\n",
            "\u001b[1m1/1\u001b[0m \u001b[32m━━━━━━━━━━━━━━━━━━━━\u001b[0m\u001b[37m\u001b[0m \u001b[1m0s\u001b[0m 71ms/step - accuracy: 0.5000 - loss: 0.6924 - val_accuracy: 0.6667 - val_loss: 0.6952\n",
            "Epoch 4/100\n",
            "\u001b[1m1/1\u001b[0m \u001b[32m━━━━━━━━━━━━━━━━━━━━\u001b[0m\u001b[37m\u001b[0m \u001b[1m0s\u001b[0m 68ms/step - accuracy: 0.5385 - loss: 0.6916 - val_accuracy: 0.6667 - val_loss: 0.6952\n",
            "Epoch 5/100\n",
            "\u001b[1m1/1\u001b[0m \u001b[32m━━━━━━━━━━━━━━━━━━━━\u001b[0m\u001b[37m\u001b[0m \u001b[1m0s\u001b[0m 45ms/step - accuracy: 0.5385 - loss: 0.6908 - val_accuracy: 0.6667 - val_loss: 0.6953\n",
            "Epoch 6/100\n",
            "\u001b[1m1/1\u001b[0m \u001b[32m━━━━━━━━━━━━━━━━━━━━\u001b[0m\u001b[37m\u001b[0m \u001b[1m0s\u001b[0m 42ms/step - accuracy: 0.5385 - loss: 0.6901 - val_accuracy: 0.6667 - val_loss: 0.6954\n",
            "Epoch 7/100\n",
            "\u001b[1m1/1\u001b[0m \u001b[32m━━━━━━━━━━━━━━━━━━━━\u001b[0m\u001b[37m\u001b[0m \u001b[1m0s\u001b[0m 42ms/step - accuracy: 0.5385 - loss: 0.6893 - val_accuracy: 0.6667 - val_loss: 0.6957\n",
            "Epoch 8/100\n",
            "\u001b[1m1/1\u001b[0m \u001b[32m━━━━━━━━━━━━━━━━━━━━\u001b[0m\u001b[37m\u001b[0m \u001b[1m0s\u001b[0m 42ms/step - accuracy: 0.5385 - loss: 0.6885 - val_accuracy: 0.6667 - val_loss: 0.6959\n",
            "Epoch 9/100\n",
            "\u001b[1m1/1\u001b[0m \u001b[32m━━━━━━━━━━━━━━━━━━━━\u001b[0m\u001b[37m\u001b[0m \u001b[1m0s\u001b[0m 60ms/step - accuracy: 0.5385 - loss: 0.6876 - val_accuracy: 0.6667 - val_loss: 0.6963\n",
            "Epoch 10/100\n",
            "\u001b[1m1/1\u001b[0m \u001b[32m━━━━━━━━━━━━━━━━━━━━\u001b[0m\u001b[37m\u001b[0m \u001b[1m0s\u001b[0m 56ms/step - accuracy: 0.5385 - loss: 0.6867 - val_accuracy: 0.6667 - val_loss: 0.6968\n",
            "Epoch 11/100\n",
            "\u001b[1m1/1\u001b[0m \u001b[32m━━━━━━━━━━━━━━━━━━━━\u001b[0m\u001b[37m\u001b[0m \u001b[1m0s\u001b[0m 44ms/step - accuracy: 0.5385 - loss: 0.6857 - val_accuracy: 0.6667 - val_loss: 0.6974\n",
            "Epoch 12/100\n",
            "\u001b[1m1/1\u001b[0m \u001b[32m━━━━━━━━━━━━━━━━━━━━\u001b[0m\u001b[37m\u001b[0m \u001b[1m0s\u001b[0m 56ms/step - accuracy: 0.5385 - loss: 0.6847 - val_accuracy: 0.6667 - val_loss: 0.6981\n",
            "Epoch 13/100\n",
            "\u001b[1m1/1\u001b[0m \u001b[32m━━━━━━━━━━━━━━━━━━━━\u001b[0m\u001b[37m\u001b[0m \u001b[1m0s\u001b[0m 46ms/step - accuracy: 0.5385 - loss: 0.6836 - val_accuracy: 0.6667 - val_loss: 0.6992\n",
            "Epoch 14/100\n",
            "\u001b[1m1/1\u001b[0m \u001b[32m━━━━━━━━━━━━━━━━━━━━\u001b[0m\u001b[37m\u001b[0m \u001b[1m0s\u001b[0m 59ms/step - accuracy: 0.5385 - loss: 0.6824 - val_accuracy: 0.6667 - val_loss: 0.7005\n",
            "Epoch 15/100\n",
            "\u001b[1m1/1\u001b[0m \u001b[32m━━━━━━━━━━━━━━━━━━━━\u001b[0m\u001b[37m\u001b[0m \u001b[1m0s\u001b[0m 57ms/step - accuracy: 0.5385 - loss: 0.6811 - val_accuracy: 0.6667 - val_loss: 0.7023\n",
            "Epoch 16/100\n",
            "\u001b[1m1/1\u001b[0m \u001b[32m━━━━━━━━━━━━━━━━━━━━\u001b[0m\u001b[37m\u001b[0m \u001b[1m0s\u001b[0m 55ms/step - accuracy: 0.5385 - loss: 0.6796 - val_accuracy: 0.6667 - val_loss: 0.7046\n",
            "Epoch 17/100\n",
            "\u001b[1m1/1\u001b[0m \u001b[32m━━━━━━━━━━━━━━━━━━━━\u001b[0m\u001b[37m\u001b[0m \u001b[1m0s\u001b[0m 55ms/step - accuracy: 0.5385 - loss: 0.6780 - val_accuracy: 0.6667 - val_loss: 0.7076\n",
            "Epoch 18/100\n",
            "\u001b[1m1/1\u001b[0m \u001b[32m━━━━━━━━━━━━━━━━━━━━\u001b[0m\u001b[37m\u001b[0m \u001b[1m0s\u001b[0m 43ms/step - accuracy: 0.5385 - loss: 0.6762 - val_accuracy: 0.6667 - val_loss: 0.7116\n",
            "Epoch 19/100\n",
            "\u001b[1m1/1\u001b[0m \u001b[32m━━━━━━━━━━━━━━━━━━━━\u001b[0m\u001b[37m\u001b[0m \u001b[1m0s\u001b[0m 56ms/step - accuracy: 0.5385 - loss: 0.6742 - val_accuracy: 0.6667 - val_loss: 0.7166\n",
            "Epoch 20/100\n",
            "\u001b[1m1/1\u001b[0m \u001b[32m━━━━━━━━━━━━━━━━━━━━\u001b[0m\u001b[37m\u001b[0m \u001b[1m0s\u001b[0m 55ms/step - accuracy: 0.5385 - loss: 0.6718 - val_accuracy: 0.6667 - val_loss: 0.7228\n",
            "Epoch 21/100\n",
            "\u001b[1m1/1\u001b[0m \u001b[32m━━━━━━━━━━━━━━━━━━━━\u001b[0m\u001b[37m\u001b[0m \u001b[1m0s\u001b[0m 46ms/step - accuracy: 0.5577 - loss: 0.6691 - val_accuracy: 0.6667 - val_loss: 0.7304\n",
            "Epoch 22/100\n",
            "\u001b[1m1/1\u001b[0m \u001b[32m━━━━━━━━━━━━━━━━━━━━\u001b[0m\u001b[37m\u001b[0m \u001b[1m0s\u001b[0m 51ms/step - accuracy: 0.5769 - loss: 0.6659 - val_accuracy: 0.3333 - val_loss: 0.7396\n",
            "Epoch 23/100\n",
            "\u001b[1m1/1\u001b[0m \u001b[32m━━━━━━━━━━━━━━━━━━━━\u001b[0m\u001b[37m\u001b[0m \u001b[1m0s\u001b[0m 55ms/step - accuracy: 0.5769 - loss: 0.6622 - val_accuracy: 0.3333 - val_loss: 0.7506\n",
            "Epoch 24/100\n",
            "\u001b[1m1/1\u001b[0m \u001b[32m━━━━━━━━━━━━━━━━━━━━\u001b[0m\u001b[37m\u001b[0m \u001b[1m0s\u001b[0m 60ms/step - accuracy: 0.6154 - loss: 0.6580 - val_accuracy: 0.3333 - val_loss: 0.7635\n",
            "Epoch 25/100\n",
            "\u001b[1m1/1\u001b[0m \u001b[32m━━━━━━━━━━━━━━━━━━━━\u001b[0m\u001b[37m\u001b[0m \u001b[1m0s\u001b[0m 48ms/step - accuracy: 0.6538 - loss: 0.6532 - val_accuracy: 0.3333 - val_loss: 0.7784\n",
            "Epoch 26/100\n",
            "\u001b[1m1/1\u001b[0m \u001b[32m━━━━━━━━━━━━━━━━━━━━\u001b[0m\u001b[37m\u001b[0m \u001b[1m0s\u001b[0m 42ms/step - accuracy: 0.6731 - loss: 0.6479 - val_accuracy: 0.1667 - val_loss: 0.7951\n",
            "Epoch 27/100\n",
            "\u001b[1m1/1\u001b[0m \u001b[32m━━━━━━━━━━━━━━━━━━━━\u001b[0m\u001b[37m\u001b[0m \u001b[1m0s\u001b[0m 55ms/step - accuracy: 0.6731 - loss: 0.6420 - val_accuracy: 0.1667 - val_loss: 0.8134\n",
            "Epoch 28/100\n",
            "\u001b[1m1/1\u001b[0m \u001b[32m━━━━━━━━━━━━━━━━━━━━\u001b[0m\u001b[37m\u001b[0m \u001b[1m0s\u001b[0m 56ms/step - accuracy: 0.7115 - loss: 0.6356 - val_accuracy: 0.3333 - val_loss: 0.8332\n",
            "Epoch 29/100\n",
            "\u001b[1m1/1\u001b[0m \u001b[32m━━━━━━━━━━━━━━━━━━━━\u001b[0m\u001b[37m\u001b[0m \u001b[1m0s\u001b[0m 54ms/step - accuracy: 0.7308 - loss: 0.6287 - val_accuracy: 0.3333 - val_loss: 0.8540\n",
            "Epoch 30/100\n",
            "\u001b[1m1/1\u001b[0m \u001b[32m━━━━━━━━━━━━━━━━━━━━\u001b[0m\u001b[37m\u001b[0m \u001b[1m0s\u001b[0m 56ms/step - accuracy: 0.7308 - loss: 0.6211 - val_accuracy: 0.3333 - val_loss: 0.8755\n",
            "Epoch 31/100\n",
            "\u001b[1m1/1\u001b[0m \u001b[32m━━━━━━━━━━━━━━━━━━━━\u001b[0m\u001b[37m\u001b[0m \u001b[1m0s\u001b[0m 61ms/step - accuracy: 0.7308 - loss: 0.6127 - val_accuracy: 0.3333 - val_loss: 0.8973\n",
            "Epoch 32/100\n",
            "\u001b[1m1/1\u001b[0m \u001b[32m━━━━━━━━━━━━━━━━━━━━\u001b[0m\u001b[37m\u001b[0m \u001b[1m0s\u001b[0m 54ms/step - accuracy: 0.7308 - loss: 0.6036 - val_accuracy: 0.3333 - val_loss: 0.9192\n",
            "Epoch 33/100\n",
            "\u001b[1m1/1\u001b[0m \u001b[32m━━━━━━━━━━━━━━━━━━━━\u001b[0m\u001b[37m\u001b[0m \u001b[1m0s\u001b[0m 59ms/step - accuracy: 0.7115 - loss: 0.5938 - val_accuracy: 0.3333 - val_loss: 0.9412\n",
            "Epoch 34/100\n",
            "\u001b[1m1/1\u001b[0m \u001b[32m━━━━━━━━━━━━━━━━━━━━\u001b[0m\u001b[37m\u001b[0m \u001b[1m0s\u001b[0m 52ms/step - accuracy: 0.7308 - loss: 0.5836 - val_accuracy: 0.3333 - val_loss: 0.9634\n",
            "Epoch 35/100\n",
            "\u001b[1m1/1\u001b[0m \u001b[32m━━━━━━━━━━━━━━━━━━━━\u001b[0m\u001b[37m\u001b[0m \u001b[1m0s\u001b[0m 60ms/step - accuracy: 0.7500 - loss: 0.5730 - val_accuracy: 0.3333 - val_loss: 0.9862\n",
            "Epoch 36/100\n",
            "\u001b[1m1/1\u001b[0m \u001b[32m━━━━━━━━━━━━━━━━━━━━\u001b[0m\u001b[37m\u001b[0m \u001b[1m0s\u001b[0m 43ms/step - accuracy: 0.7500 - loss: 0.5623 - val_accuracy: 0.3333 - val_loss: 1.0093\n",
            "Epoch 37/100\n",
            "\u001b[1m1/1\u001b[0m \u001b[32m━━━━━━━━━━━━━━━━━━━━\u001b[0m\u001b[37m\u001b[0m \u001b[1m0s\u001b[0m 45ms/step - accuracy: 0.7692 - loss: 0.5515 - val_accuracy: 0.3333 - val_loss: 1.0322\n",
            "Epoch 38/100\n",
            "\u001b[1m1/1\u001b[0m \u001b[32m━━━━━━━━━━━━━━━━━━━━\u001b[0m\u001b[37m\u001b[0m \u001b[1m0s\u001b[0m 44ms/step - accuracy: 0.7500 - loss: 0.5407 - val_accuracy: 0.1667 - val_loss: 1.0538\n",
            "Epoch 39/100\n",
            "\u001b[1m1/1\u001b[0m \u001b[32m━━━━━━━━━━━━━━━━━━━━\u001b[0m\u001b[37m\u001b[0m \u001b[1m0s\u001b[0m 51ms/step - accuracy: 0.7115 - loss: 0.5308 - val_accuracy: 0.1667 - val_loss: 1.0720\n",
            "Epoch 40/100\n",
            "\u001b[1m1/1\u001b[0m \u001b[32m━━━━━━━━━━━━━━━━━━━━\u001b[0m\u001b[37m\u001b[0m \u001b[1m0s\u001b[0m 42ms/step - accuracy: 0.7308 - loss: 0.5219 - val_accuracy: 0.3333 - val_loss: 1.0837\n",
            "Epoch 41/100\n",
            "\u001b[1m1/1\u001b[0m \u001b[32m━━━━━━━━━━━━━━━━━━━━\u001b[0m\u001b[37m\u001b[0m \u001b[1m0s\u001b[0m 57ms/step - accuracy: 0.7308 - loss: 0.5138 - val_accuracy: 0.3333 - val_loss: 1.0883\n",
            "Epoch 42/100\n",
            "\u001b[1m1/1\u001b[0m \u001b[32m━━━━━━━━━━━━━━━━━━━━\u001b[0m\u001b[37m\u001b[0m \u001b[1m0s\u001b[0m 45ms/step - accuracy: 0.7308 - loss: 0.5059 - val_accuracy: 0.3333 - val_loss: 1.0893\n",
            "Epoch 43/100\n",
            "\u001b[1m1/1\u001b[0m \u001b[32m━━━━━━━━━━━━━━━━━━━━\u001b[0m\u001b[37m\u001b[0m \u001b[1m0s\u001b[0m 43ms/step - accuracy: 0.7308 - loss: 0.4976 - val_accuracy: 0.3333 - val_loss: 1.0896\n",
            "Epoch 44/100\n",
            "\u001b[1m1/1\u001b[0m \u001b[32m━━━━━━━━━━━━━━━━━━━━\u001b[0m\u001b[37m\u001b[0m \u001b[1m0s\u001b[0m 42ms/step - accuracy: 0.7308 - loss: 0.4877 - val_accuracy: 0.3333 - val_loss: 1.0893\n",
            "Epoch 45/100\n",
            "\u001b[1m1/1\u001b[0m \u001b[32m━━━━━━━━━━━━━━━━━━━━\u001b[0m\u001b[37m\u001b[0m \u001b[1m0s\u001b[0m 56ms/step - accuracy: 0.7308 - loss: 0.4761 - val_accuracy: 0.3333 - val_loss: 1.0868\n",
            "Epoch 46/100\n",
            "\u001b[1m1/1\u001b[0m \u001b[32m━━━━━━━━━━━━━━━━━━━━\u001b[0m\u001b[37m\u001b[0m \u001b[1m0s\u001b[0m 61ms/step - accuracy: 0.7692 - loss: 0.4636 - val_accuracy: 0.3333 - val_loss: 1.0793\n",
            "Epoch 47/100\n",
            "\u001b[1m1/1\u001b[0m \u001b[32m━━━━━━━━━━━━━━━━━━━━\u001b[0m\u001b[37m\u001b[0m \u001b[1m0s\u001b[0m 52ms/step - accuracy: 0.8077 - loss: 0.4509 - val_accuracy: 0.3333 - val_loss: 1.0675\n",
            "Epoch 48/100\n",
            "\u001b[1m1/1\u001b[0m \u001b[32m━━━━━━━━━━━━━━━━━━━━\u001b[0m\u001b[37m\u001b[0m \u001b[1m0s\u001b[0m 56ms/step - accuracy: 0.8269 - loss: 0.4386 - val_accuracy: 0.3333 - val_loss: 1.0562\n",
            "Epoch 49/100\n",
            "\u001b[1m1/1\u001b[0m \u001b[32m━━━━━━━━━━━━━━━━━━━━\u001b[0m\u001b[37m\u001b[0m \u001b[1m0s\u001b[0m 51ms/step - accuracy: 0.8269 - loss: 0.4277 - val_accuracy: 0.3333 - val_loss: 1.0457\n",
            "Epoch 50/100\n",
            "\u001b[1m1/1\u001b[0m \u001b[32m━━━━━━━━━━━━━━━━━━━━\u001b[0m\u001b[37m\u001b[0m \u001b[1m0s\u001b[0m 59ms/step - accuracy: 0.8269 - loss: 0.4182 - val_accuracy: 0.3333 - val_loss: 1.0326\n",
            "Epoch 51/100\n",
            "\u001b[1m1/1\u001b[0m \u001b[32m━━━━━━━━━━━━━━━━━━━━\u001b[0m\u001b[37m\u001b[0m \u001b[1m0s\u001b[0m 125ms/step - accuracy: 0.8269 - loss: 0.4096 - val_accuracy: 0.3333 - val_loss: 1.0151\n",
            "Epoch 52/100\n",
            "\u001b[1m1/1\u001b[0m \u001b[32m━━━━━━━━━━━━━━━━━━━━\u001b[0m\u001b[37m\u001b[0m \u001b[1m0s\u001b[0m 42ms/step - accuracy: 0.8462 - loss: 0.4017 - val_accuracy: 0.3333 - val_loss: 0.9954\n",
            "Epoch 53/100\n",
            "\u001b[1m1/1\u001b[0m \u001b[32m━━━━━━━━━━━━━━━━━━━━\u001b[0m\u001b[37m\u001b[0m \u001b[1m0s\u001b[0m 43ms/step - accuracy: 0.8462 - loss: 0.3946 - val_accuracy: 0.3333 - val_loss: 0.9764\n",
            "Epoch 54/100\n",
            "\u001b[1m1/1\u001b[0m \u001b[32m━━━━━━━━━━━━━━━━━━━━\u001b[0m\u001b[37m\u001b[0m \u001b[1m0s\u001b[0m 62ms/step - accuracy: 0.8462 - loss: 0.3878 - val_accuracy: 0.5000 - val_loss: 0.9587\n",
            "Epoch 55/100\n",
            "\u001b[1m1/1\u001b[0m \u001b[32m━━━━━━━━━━━━━━━━━━━━\u001b[0m\u001b[37m\u001b[0m \u001b[1m0s\u001b[0m 67ms/step - accuracy: 0.8462 - loss: 0.3815 - val_accuracy: 0.5000 - val_loss: 0.9402\n",
            "Epoch 56/100\n",
            "\u001b[1m1/1\u001b[0m \u001b[32m━━━━━━━━━━━━━━━━━━━━\u001b[0m\u001b[37m\u001b[0m \u001b[1m0s\u001b[0m 120ms/step - accuracy: 0.8462 - loss: 0.3757 - val_accuracy: 0.5000 - val_loss: 0.9193\n",
            "Epoch 57/100\n",
            "\u001b[1m1/1\u001b[0m \u001b[32m━━━━━━━━━━━━━━━━━━━━\u001b[0m\u001b[37m\u001b[0m \u001b[1m0s\u001b[0m 61ms/step - accuracy: 0.8462 - loss: 0.3702 - val_accuracy: 0.5000 - val_loss: 0.8973\n",
            "Epoch 58/100\n",
            "\u001b[1m1/1\u001b[0m \u001b[32m━━━━━━━━━━━━━━━━━━━━\u001b[0m\u001b[37m\u001b[0m \u001b[1m0s\u001b[0m 43ms/step - accuracy: 0.8462 - loss: 0.3652 - val_accuracy: 0.5000 - val_loss: 0.8764\n",
            "Epoch 59/100\n",
            "\u001b[1m1/1\u001b[0m \u001b[32m━━━━━━━━━━━━━━━━━━━━\u001b[0m\u001b[37m\u001b[0m \u001b[1m0s\u001b[0m 43ms/step - accuracy: 0.8462 - loss: 0.3607 - val_accuracy: 0.5000 - val_loss: 0.8569\n",
            "Epoch 60/100\n",
            "\u001b[1m1/1\u001b[0m \u001b[32m━━━━━━━━━━━━━━━━━━━━\u001b[0m\u001b[37m\u001b[0m \u001b[1m0s\u001b[0m 44ms/step - accuracy: 0.8462 - loss: 0.3568 - val_accuracy: 0.5000 - val_loss: 0.8374\n",
            "Epoch 61/100\n",
            "\u001b[1m1/1\u001b[0m \u001b[32m━━━━━━━━━━━━━━━━━━━━\u001b[0m\u001b[37m\u001b[0m \u001b[1m0s\u001b[0m 54ms/step - accuracy: 0.8462 - loss: 0.3536 - val_accuracy: 0.5000 - val_loss: 0.8169\n",
            "Epoch 62/100\n",
            "\u001b[1m1/1\u001b[0m \u001b[32m━━━━━━━━━━━━━━━━━━━━\u001b[0m\u001b[37m\u001b[0m \u001b[1m0s\u001b[0m 56ms/step - accuracy: 0.8462 - loss: 0.3512 - val_accuracy: 0.5000 - val_loss: 0.7963\n",
            "Epoch 63/100\n",
            "\u001b[1m1/1\u001b[0m \u001b[32m━━━━━━━━━━━━━━━━━━━━\u001b[0m\u001b[37m\u001b[0m \u001b[1m0s\u001b[0m 44ms/step - accuracy: 0.8462 - loss: 0.3493 - val_accuracy: 0.5000 - val_loss: 0.7772\n",
            "Epoch 64/100\n",
            "\u001b[1m1/1\u001b[0m \u001b[32m━━━━━━━━━━━━━━━━━━━━\u001b[0m\u001b[37m\u001b[0m \u001b[1m0s\u001b[0m 75ms/step - accuracy: 0.8462 - loss: 0.3480 - val_accuracy: 0.5000 - val_loss: 0.7600\n",
            "Epoch 65/100\n",
            "\u001b[1m1/1\u001b[0m \u001b[32m━━━━━━━━━━━━━━━━━━━━\u001b[0m\u001b[37m\u001b[0m \u001b[1m0s\u001b[0m 125ms/step - accuracy: 0.8462 - loss: 0.3471 - val_accuracy: 0.5000 - val_loss: 0.7449\n",
            "Epoch 66/100\n",
            "\u001b[1m1/1\u001b[0m \u001b[32m━━━━━━━━━━━━━━━━━━━━\u001b[0m\u001b[37m\u001b[0m \u001b[1m0s\u001b[0m 50ms/step - accuracy: 0.8462 - loss: 0.3466 - val_accuracy: 0.5000 - val_loss: 0.7321\n",
            "Epoch 67/100\n",
            "\u001b[1m1/1\u001b[0m \u001b[32m━━━━━━━━━━━━━━━━━━━━\u001b[0m\u001b[37m\u001b[0m \u001b[1m0s\u001b[0m 58ms/step - accuracy: 0.8462 - loss: 0.3464 - val_accuracy: 0.5000 - val_loss: 0.7218\n",
            "Epoch 68/100\n",
            "\u001b[1m1/1\u001b[0m \u001b[32m━━━━━━━━━━━━━━━━━━━━\u001b[0m\u001b[37m\u001b[0m \u001b[1m0s\u001b[0m 45ms/step - accuracy: 0.8462 - loss: 0.3464 - val_accuracy: 0.5000 - val_loss: 0.7140\n",
            "Epoch 69/100\n",
            "\u001b[1m1/1\u001b[0m \u001b[32m━━━━━━━━━━━━━━━━━━━━\u001b[0m\u001b[37m\u001b[0m \u001b[1m0s\u001b[0m 46ms/step - accuracy: 0.8462 - loss: 0.3463 - val_accuracy: 0.5000 - val_loss: 0.7087\n",
            "Epoch 70/100\n",
            "\u001b[1m1/1\u001b[0m \u001b[32m━━━━━━━━━━━━━━━━━━━━\u001b[0m\u001b[37m\u001b[0m \u001b[1m0s\u001b[0m 45ms/step - accuracy: 0.8462 - loss: 0.3461 - val_accuracy: 0.5000 - val_loss: 0.7058\n",
            "Epoch 71/100\n",
            "\u001b[1m1/1\u001b[0m \u001b[32m━━━━━━━━━━━━━━━━━━━━\u001b[0m\u001b[37m\u001b[0m \u001b[1m0s\u001b[0m 64ms/step - accuracy: 0.8462 - loss: 0.3458 - val_accuracy: 0.5000 - val_loss: 0.7051\n",
            "Epoch 72/100\n",
            "\u001b[1m1/1\u001b[0m \u001b[32m━━━━━━━━━━━━━━━━━━━━\u001b[0m\u001b[37m\u001b[0m \u001b[1m0s\u001b[0m 42ms/step - accuracy: 0.8462 - loss: 0.3453 - val_accuracy: 0.5000 - val_loss: 0.7063\n",
            "Epoch 73/100\n",
            "\u001b[1m1/1\u001b[0m \u001b[32m━━━━━━━━━━━━━━━━━━━━\u001b[0m\u001b[37m\u001b[0m \u001b[1m0s\u001b[0m 56ms/step - accuracy: 0.8462 - loss: 0.3446 - val_accuracy: 0.5000 - val_loss: 0.7091\n",
            "Epoch 74/100\n",
            "\u001b[1m1/1\u001b[0m \u001b[32m━━━━━━━━━━━━━━━━━━━━\u001b[0m\u001b[37m\u001b[0m \u001b[1m0s\u001b[0m 58ms/step - accuracy: 0.8462 - loss: 0.3438 - val_accuracy: 0.5000 - val_loss: 0.7133\n",
            "Epoch 75/100\n",
            "\u001b[1m1/1\u001b[0m \u001b[32m━━━━━━━━━━━━━━━━━━━━\u001b[0m\u001b[37m\u001b[0m \u001b[1m0s\u001b[0m 56ms/step - accuracy: 0.8462 - loss: 0.3429 - val_accuracy: 0.5000 - val_loss: 0.7184\n",
            "Epoch 76/100\n",
            "\u001b[1m1/1\u001b[0m \u001b[32m━━━━━━━━━━━━━━━━━━━━\u001b[0m\u001b[37m\u001b[0m \u001b[1m0s\u001b[0m 69ms/step - accuracy: 0.8462 - loss: 0.3420 - val_accuracy: 0.5000 - val_loss: 0.7241\n",
            "Epoch 77/100\n",
            "\u001b[1m1/1\u001b[0m \u001b[32m━━━━━━━━━━━━━━━━━━━━\u001b[0m\u001b[37m\u001b[0m \u001b[1m0s\u001b[0m 123ms/step - accuracy: 0.8462 - loss: 0.3411 - val_accuracy: 0.5000 - val_loss: 0.7301\n",
            "Epoch 78/100\n",
            "\u001b[1m1/1\u001b[0m \u001b[32m━━━━━━━━━━━━━━━━━━━━\u001b[0m\u001b[37m\u001b[0m \u001b[1m0s\u001b[0m 63ms/step - accuracy: 0.8462 - loss: 0.3402 - val_accuracy: 0.5000 - val_loss: 0.7361\n",
            "Epoch 79/100\n",
            "\u001b[1m1/1\u001b[0m \u001b[32m━━━━━━━━━━━━━━━━━━━━\u001b[0m\u001b[37m\u001b[0m \u001b[1m0s\u001b[0m 58ms/step - accuracy: 0.8462 - loss: 0.3394 - val_accuracy: 0.5000 - val_loss: 0.7417\n",
            "Epoch 80/100\n",
            "\u001b[1m1/1\u001b[0m \u001b[32m━━━━━━━━━━━━━━━━━━━━\u001b[0m\u001b[37m\u001b[0m \u001b[1m0s\u001b[0m 52ms/step - accuracy: 0.8462 - loss: 0.3386 - val_accuracy: 0.5000 - val_loss: 0.7467\n",
            "Epoch 81/100\n",
            "\u001b[1m1/1\u001b[0m \u001b[32m━━━━━━━━━━━━━━━━━━━━\u001b[0m\u001b[37m\u001b[0m \u001b[1m0s\u001b[0m 130ms/step - accuracy: 0.8462 - loss: 0.3378 - val_accuracy: 0.5000 - val_loss: 0.7508\n",
            "Epoch 82/100\n",
            "\u001b[1m1/1\u001b[0m \u001b[32m━━━━━━━━━━━━━━━━━━━━\u001b[0m\u001b[37m\u001b[0m \u001b[1m0s\u001b[0m 43ms/step - accuracy: 0.8462 - loss: 0.3370 - val_accuracy: 0.5000 - val_loss: 0.7541\n",
            "Epoch 83/100\n",
            "\u001b[1m1/1\u001b[0m \u001b[32m━━━━━━━━━━━━━━━━━━━━\u001b[0m\u001b[37m\u001b[0m \u001b[1m0s\u001b[0m 56ms/step - accuracy: 0.8462 - loss: 0.3362 - val_accuracy: 0.5000 - val_loss: 0.7562\n",
            "Epoch 84/100\n",
            "\u001b[1m1/1\u001b[0m \u001b[32m━━━━━━━━━━━━━━━━━━━━\u001b[0m\u001b[37m\u001b[0m \u001b[1m0s\u001b[0m 56ms/step - accuracy: 0.8462 - loss: 0.3353 - val_accuracy: 0.5000 - val_loss: 0.7571\n",
            "Epoch 85/100\n",
            "\u001b[1m1/1\u001b[0m \u001b[32m━━━━━━━━━━━━━━━━━━━━\u001b[0m\u001b[37m\u001b[0m \u001b[1m0s\u001b[0m 63ms/step - accuracy: 0.8462 - loss: 0.3343 - val_accuracy: 0.5000 - val_loss: 0.7568\n",
            "Epoch 86/100\n",
            "\u001b[1m1/1\u001b[0m \u001b[32m━━━━━━━━━━━━━━━━━━━━\u001b[0m\u001b[37m\u001b[0m \u001b[1m0s\u001b[0m 129ms/step - accuracy: 0.8462 - loss: 0.3332 - val_accuracy: 0.5000 - val_loss: 0.7552\n",
            "Epoch 87/100\n",
            "\u001b[1m1/1\u001b[0m \u001b[32m━━━━━━━━━━━━━━━━━━━━\u001b[0m\u001b[37m\u001b[0m \u001b[1m0s\u001b[0m 61ms/step - accuracy: 0.8462 - loss: 0.3320 - val_accuracy: 0.5000 - val_loss: 0.7524\n",
            "Epoch 88/100\n",
            "\u001b[1m1/1\u001b[0m \u001b[32m━━━━━━━━━━━━━━━━━━━━\u001b[0m\u001b[37m\u001b[0m \u001b[1m0s\u001b[0m 44ms/step - accuracy: 0.8462 - loss: 0.3306 - val_accuracy: 0.5000 - val_loss: 0.7485\n",
            "Epoch 89/100\n",
            "\u001b[1m1/1\u001b[0m \u001b[32m━━━━━━━━━━━━━━━━━━━━\u001b[0m\u001b[37m\u001b[0m \u001b[1m0s\u001b[0m 58ms/step - accuracy: 0.8462 - loss: 0.3290 - val_accuracy: 0.5000 - val_loss: 0.7436\n",
            "Epoch 90/100\n",
            "\u001b[1m1/1\u001b[0m \u001b[32m━━━━━━━━━━━━━━━━━━━━\u001b[0m\u001b[37m\u001b[0m \u001b[1m0s\u001b[0m 44ms/step - accuracy: 0.8462 - loss: 0.3273 - val_accuracy: 0.5000 - val_loss: 0.7378\n",
            "Epoch 91/100\n",
            "\u001b[1m1/1\u001b[0m \u001b[32m━━━━━━━━━━━━━━━━━━━━\u001b[0m\u001b[37m\u001b[0m \u001b[1m0s\u001b[0m 56ms/step - accuracy: 0.8462 - loss: 0.3253 - val_accuracy: 0.5000 - val_loss: 0.7313\n",
            "Epoch 92/100\n",
            "\u001b[1m1/1\u001b[0m \u001b[32m━━━━━━━━━━━━━━━━━━━━\u001b[0m\u001b[37m\u001b[0m \u001b[1m0s\u001b[0m 64ms/step - accuracy: 0.8462 - loss: 0.3231 - val_accuracy: 0.5000 - val_loss: 0.7241\n",
            "Epoch 93/100\n",
            "\u001b[1m1/1\u001b[0m \u001b[32m━━━━━━━━━━━━━━━━━━━━\u001b[0m\u001b[37m\u001b[0m \u001b[1m0s\u001b[0m 58ms/step - accuracy: 0.8462 - loss: 0.3207 - val_accuracy: 0.5000 - val_loss: 0.7164\n",
            "Epoch 94/100\n",
            "\u001b[1m1/1\u001b[0m \u001b[32m━━━━━━━━━━━━━━━━━━━━\u001b[0m\u001b[37m\u001b[0m \u001b[1m0s\u001b[0m 54ms/step - accuracy: 0.8462 - loss: 0.3181 - val_accuracy: 0.5000 - val_loss: 0.7079\n",
            "Epoch 95/100\n",
            "\u001b[1m1/1\u001b[0m \u001b[32m━━━━━━━━━━━━━━━━━━━━\u001b[0m\u001b[37m\u001b[0m \u001b[1m0s\u001b[0m 63ms/step - accuracy: 0.8462 - loss: 0.3152 - val_accuracy: 0.5000 - val_loss: 0.6984\n",
            "Epoch 96/100\n",
            "\u001b[1m1/1\u001b[0m \u001b[32m━━━━━━━━━━━━━━━━━━━━\u001b[0m\u001b[37m\u001b[0m \u001b[1m0s\u001b[0m 44ms/step - accuracy: 0.8462 - loss: 0.3121 - val_accuracy: 0.5000 - val_loss: 0.6879\n",
            "Epoch 97/100\n",
            "\u001b[1m1/1\u001b[0m \u001b[32m━━━━━━━━━━━━━━━━━━━━\u001b[0m\u001b[37m\u001b[0m \u001b[1m0s\u001b[0m 47ms/step - accuracy: 0.8462 - loss: 0.3086 - val_accuracy: 0.5000 - val_loss: 0.6773\n",
            "Epoch 98/100\n",
            "\u001b[1m1/1\u001b[0m \u001b[32m━━━━━━━━━━━━━━━━━━━━\u001b[0m\u001b[37m\u001b[0m \u001b[1m0s\u001b[0m 43ms/step - accuracy: 0.8462 - loss: 0.3047 - val_accuracy: 0.5000 - val_loss: 0.6675\n",
            "Epoch 99/100\n",
            "\u001b[1m1/1\u001b[0m \u001b[32m━━━━━━━━━━━━━━━━━━━━\u001b[0m\u001b[37m\u001b[0m \u001b[1m0s\u001b[0m 56ms/step - accuracy: 0.8462 - loss: 0.3004 - val_accuracy: 0.5000 - val_loss: 0.6596\n",
            "Epoch 100/100\n",
            "\u001b[1m1/1\u001b[0m \u001b[32m━━━━━━━━━━━━━━━━━━━━\u001b[0m\u001b[37m\u001b[0m \u001b[1m0s\u001b[0m 55ms/step - accuracy: 0.8462 - loss: 0.2955 - val_accuracy: 0.5000 - val_loss: 0.6539\n"
          ]
        },
        {
          "output_type": "execute_result",
          "data": {
            "text/plain": [
              "<keras.src.callbacks.history.History at 0x7b347a1ce290>"
            ]
          },
          "metadata": {},
          "execution_count": 44
        }
      ],
      "source": [
        "model = tf.keras.models.Sequential()\n",
        "model.add(tf.keras.layers.LSTM(units=64, input_shape=(nb_words, len(vocabulary))))\n",
        "model.add(tf.keras.layers.Dense(1, activation='sigmoid'))\n",
        "\n",
        "optimizer = tf.keras.optimizers.Adam()\n",
        "\n",
        "model.compile(\n",
        "    loss=\"binary_crossentropy\",\n",
        "    optimizer=optimizer,\n",
        "    metrics=['accuracy'])\n",
        "\n",
        "# History tracks the evolution of the metrics during learning\n",
        "history = tf.keras.callbacks.History()\n",
        "\n",
        "# Training procedure\n",
        "model.fit(\n",
        "    X_train, T_train, # training data\n",
        "    batch_size=64,  # batch size\n",
        "    epochs=100, # Maximum number of epochs\n",
        "    validation_split=0.1, # Perceptage of training data used for validation\n",
        "    callbacks=[history] # Track the metrics at the end of each epoch\n",
        ")"
      ]
    },
    {
      "cell_type": "markdown",
      "metadata": {
        "id": "XH9l639TQyJE"
      },
      "source": [
        "**Q.** Once you have been able to successfully train the network, vary the different parts of the model to understand their influence: learning rate, number of units, optimizer, etc. Add another LSTM layer to see what happens. Exchange the LSTM layer with the GRU layer."
      ]
    },
    {
      "cell_type": "markdown",
      "metadata": {
        "id": "jpdgHD7PU9iR"
      },
      "source": [
        "## Time series prediction\n",
        "\n",
        "Another useful function of RNNs is forecasting, i.e. predicting the rest of a sequence (financial markets, weather, etc.) based on its history.\n",
        "\n",
        "Let's generate a dummy one-dimensional signal with 10000 points:\n"
      ]
    },
    {
      "cell_type": "code",
      "execution_count": 45,
      "metadata": {
        "colab": {
          "base_uri": "https://localhost:8080/",
          "height": 522
        },
        "id": "-jEpsMPyU9iR",
        "outputId": "e96408de-b096-4660-edb9-3f927d06030b"
      },
      "outputs": [
        {
          "output_type": "display_data",
          "data": {
            "text/plain": [
              "<Figure size 1000x600 with 1 Axes>"
            ],
            "image/png": "[encoded data removed]"
          },
          "metadata": {}
        }
      ],
      "source": [
        "N = 10000\n",
        "time_axis = np.arange(N)\n",
        "\n",
        "signal = 0.8*np.sin(time_axis/700) + 0.15*np.sin(time_axis/40)\n",
        "\n",
        "plt.figure(figsize=(10, 6))\n",
        "plt.plot(signal)\n",
        "plt.show()"
      ]
    },
    {
      "cell_type": "markdown",
      "metadata": {
        "id": "tMJ15BEDUHCh"
      },
      "source": [
        "We are going to use a small window (50 points) to feed the LSTM. The goal will be to perform **one-step ahead prediction**: given the last 50 points, what will be the next one?\n",
        "\n",
        "The following cell prepares the data for the problem. Check that the data is what you expect."
      ]
    },
    {
      "cell_type": "code",
      "execution_count": null,
      "metadata": {
        "id": "i2HYMKoeU9iS"
      },
      "outputs": [],
      "source": [
        "window = 50\n",
        "\n",
        "X = np.array(\n",
        "    [signal[t: t+ window] for t in time_axis[:-window]]\n",
        ")\n",
        "\n",
        "t = signal[time_axis[1:-window+1]]\n",
        "\n",
        "print(X.shape)\n",
        "print(t.shape)"
      ]
    },
    {
      "cell_type": "markdown",
      "metadata": {
        "id": "-F1prIbgUfdW"
      },
      "source": [
        "We now split the signal into training and test sets. The training set consists of the 9000 first points, while the test set consists of the remaining 1000 points (the future). Note that the test set is not exactly contained in the training set as the function is not periodic, but quite."
      ]
    },
    {
      "cell_type": "code",
      "execution_count": null,
      "metadata": {
        "id": "_wzyFA4JU9iT"
      },
      "outputs": [],
      "source": [
        "nb_train = 9000\n",
        "\n",
        "X_train = X[:nb_train]\n",
        "T_train = t[:nb_train]\n",
        "X_test = X[nb_train:]\n",
        "T_test = t[nb_train:]"
      ]
    },
    {
      "cell_type": "markdown",
      "metadata": {
        "id": "Ft8qAwVZU10t"
      },
      "source": [
        "**Q:** Create a neural network taking a `(window, 1)` input, with one LSTM layer and one output neuron using the tanh activation function (as the targets are between -1 and 1). Train it on the data as a regression problem (use many epochs). Track the mean average error (`metrics=['mae']`) in addition to the mse, as it indicates better the prediction error. After training, plot the prediction for the test set and compare it to the ground truth."
      ]
    },
    {
      "cell_type": "code",
      "execution_count": null,
      "metadata": {
        "id": "P9RkDPtpRKpV"
      },
      "outputs": [],
      "source": []
    },
    {
      "cell_type": "markdown",
      "metadata": {
        "id": "SiGLEA5cVlS6"
      },
      "source": [
        "It seems possible to get a high precision on the test set, but there is a trick. The sequence fed as an input when testing consists of **real** measurements. The network has only learned to predict the next data point. Can we use that model to predict the next 1000 points without seeing the true data?\n",
        "\n",
        "For that, we need to build an **auto-regressive model**, i.e. to feed inputs to the network consisting of predictions, not of real data points. We need a structure that can represent a fixed-size window of data points, where we can append predictions one by one. The following cell provides you with a simple implementation:"
      ]
    },
    {
      "cell_type": "code",
      "execution_count": null,
      "metadata": {
        "id": "NPAaX0ZaWVhI"
      },
      "outputs": [],
      "source": [
        "from collections import deque\n",
        "\n",
        "class Buffer:\n",
        "    \"Fixed size buffer allowing to append predictions.\"\n",
        "    def __init__(self, window, data):\n",
        "        self.window = window\n",
        "        self.data  = data.reshape((1, window))\n",
        "\n",
        "    def append(self, value):\n",
        "        d = deque([x for x in list(self.data[0, :])])\n",
        "        d.popleft()\n",
        "        d.append(value)\n",
        "        self.data = np.array(d).reshape((1, self.window))\n"
      ]
    },
    {
      "cell_type": "markdown",
      "metadata": {
        "id": "Zez00Q5vYBal"
      },
      "source": [
        "You can create the buffer by intializing it with the first test sample consisting of 50 real data points:\n",
        "\n",
        "```python\n",
        "buffer = Buffer(window, X_test[0, :])\n",
        "```\n",
        "\n",
        "`buffer.data` can be passed directly to the model in order to make a prediction:\n",
        "\n",
        "```python\n",
        "y = model.predict(buffer.data)[0, 0]\n",
        "```\n",
        "\n",
        "This prediction can be appended to the buffer, which can be used as the next input to the model:\n",
        "\n",
        "```python\n",
        "buffer.append(y)\n",
        "```\n",
        "\n",
        "**Q:** Make recursive prediction using your trained model. Does it work?"
      ]
    },
    {
      "cell_type": "code",
      "execution_count": null,
      "metadata": {
        "id": "uoomfW19U9iV"
      },
      "outputs": [],
      "source": []
    }
  ],
  "metadata": {
    "accelerator": "GPU",
    "colab": {
      "name": "13-RNN-solution.ipynb",
      "provenance": [],
      "include_colab_link": true
    },
    "kernelspec": {
      "display_name": "Python 3",
      "language": "python",
      "name": "python3"
    },
    "language_info": {
      "codemirror_mode": {
        "name": "ipython",
        "version": 3
      },
      "file_extension": ".py",
      "mimetype": "text/x-python",
      "name": "python",
      "nbconvert_exporter": "python",
      "pygments_lexer": "ipython3",
      "version": "3.9.1"
    }
  },
  "nbformat": 4,
  "nbformat_minor": 0
}